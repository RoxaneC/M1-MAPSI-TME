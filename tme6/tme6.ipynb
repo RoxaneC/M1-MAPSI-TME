{
 "cells": [
  {
   "cell_type": "markdown",
   "metadata": {},
   "source": [
    "# TME sur la classification de lettres manuscrites\n",
    "## Format des données\n",
    "Nous travaillerons sur des lettres manuscrites.\n",
    "Les données sont fournies au format pickle (le standard de sérialisation python, particulièrement convivial). Pour les charger : "
   ]
  },
  {
   "cell_type": "code",
   "execution_count": 4,
   "metadata": {},
   "outputs": [
    {
     "name": "stderr",
     "output_type": "stream",
     "text": [
      "/tmp/ipykernel_9482/2439924595.py:7: VisibleDeprecationWarning: Creating an ndarray from ragged nested sequences (which is a list-or-tuple of lists-or-tuples-or ndarrays with different lengths or shapes) is deprecated. If you meant to do this, you must specify 'dtype=object' when creating the ndarray.\n",
      "  X = np.array(data.get('letters')) # récupération des données sur les lettres\n"
     ]
    }
   ],
   "source": [
    "import numpy as np\n",
    "import pickle as pkl\n",
    "import matplotlib.pyplot as plt\n",
    "\n",
    "with open('ressources/lettres.pkl', 'rb') as f:\n",
    "    data = pkl.load(f, encoding='latin1') \n",
    "X = np.array(data.get('letters')) # récupération des données sur les lettres\n",
    "Y = np.array(data.get('labels')) # récupération des étiquettes associées "
   ]
  },
  {
   "cell_type": "markdown",
   "metadata": {},
   "source": [
    "Les données sont dans un format original: une lettre est en fait une série d'angles (exprimés en degrés). Un exemple: "
   ]
  },
  {
   "cell_type": "code",
   "execution_count": 5,
   "metadata": {},
   "outputs": [
    {
     "data": {
      "text/plain": [
       "array([ 36.214493, 347.719116, 322.088898, 312.230957, 314.851013,\n",
       "       315.487213, 313.556702, 326.534973, 141.288971, 167.606689,\n",
       "       199.321594, 217.911087, 226.443298, 235.002472, 252.354492,\n",
       "       270.045654, 291.665161, 350.934723,  17.892815,  20.281025,\n",
       "        28.207161,  43.883423,  53.459026])"
      ]
     },
     "execution_count": 5,
     "metadata": {},
     "output_type": "execute_result"
    }
   ],
   "source": [
    "X[0]"
   ]
  },
  {
   "cell_type": "markdown",
   "metadata": {},
   "source": [
    "Lors de l'acquisition, un stylo intelligent a pris des mesures régulièrement dans le temps: chaque période correspond à un segment de droite et le stylo a calculé l'angle entre deux segments consécutifs... C'est l'information qui vous est fournie.\n",
    "\n",
    "Pour afficher une lettre, il faut reconstruire la trajectoire enregistrée... C'est ce que fait la méthode ci-dessous: "
   ]
  },
  {
   "cell_type": "code",
   "execution_count": 7,
   "metadata": {},
   "outputs": [],
   "source": [
    "# affichage d'une lettre\n",
    "def tracerLettre(let):\n",
    "    a = -let*np.pi/180; # conversion en rad\n",
    "    coord = np.array([[0, 0]]); # point initial\n",
    "    for i in range(len(a)):\n",
    "        x = np.array([[1, 0]]);\n",
    "        rot = np.array([[np.cos(a[i]), -np.sin(a[i])],[ np.sin(a[i]),np.cos(a[i])]])\n",
    "        xr = x.dot(rot) # application de la rotation\n",
    "        coord = np.vstack((coord,xr+coord[-1,:]))\n",
    "    plt.figure()\n",
    "    plt.plot(coord[:,0],coord[:,1])\n",
    "    #plt.savefig(\"exlettre.png\")\n",
    "    return"
   ]
  },
  {
   "cell_type": "code",
   "execution_count": 8,
   "metadata": {},
   "outputs": [
    {
     "name": "stdout",
     "output_type": "stream",
     "text": [
      "a\n"
     ]
    },
    {
     "data": {
      "image/png": "[encoded data removed]",
      "text/plain": [
       "<Figure size 432x288 with 1 Axes>"
      ]
     },
     "metadata": {
      "needs_background": "light"
     },
     "output_type": "display_data"
    }
   ],
   "source": [
    "# il s'agit d'un 'a'\n",
    "tracerLettre(X[0])\n",
    "print(Y[0]) # vérification de l'étiquette"
   ]
  },
  {
   "cell_type": "markdown",
   "metadata": {},
   "source": [
    "## A. Apprentissage d'un modèle CM (max de vraisemblance)\n",
    "### A1. Discrétisation\n",
    "\n",
    "**1 état = 1 angle**\n",
    "\n",
    "Il est nécessaire de regrouper les angles en un nombre fini d'états (par exemple 20)\n",
    "- définir un `intervalle = 360 / n_etats` (18° si on choisit 20 états)\n",
    "- discrétiser tous les signaux à l'aide de la formule `np.floor(x / intervalle)`\n",
    "    - si n_etats = 20 alors [0, 18[ => 0, [18, 36[ => 1, etc...\n",
    "\n",
    "Donner le code de la méthode `discretise(x, d)` qui prend la base des signaux et retourne une base de signaux discrétisés."
   ]
  },
  {
   "cell_type": "code",
   "execution_count": 9,
   "metadata": {},
   "outputs": [
    {
     "data": {
      "text/plain": [
       "[array([0., 2., 2., 2., 2., 2., 2., 2., 1., 1., 1., 1., 1., 1., 2., 2., 2.,\n",
       "        2., 0., 0., 0., 0., 0.]),\n",
       " array([2., 2., 2., 2., 2., 2., 2., 1., 1., 1., 1., 1., 1., 1., 2., 2., 2.,\n",
       "        2., 2., 0., 0.])]"
      ]
     },
     "execution_count": 9,
     "metadata": {},
     "output_type": "execute_result"
    }
   ],
   "source": [
    "def discretise(x, d):\n",
    "    # Votre code :\n",
    "    intervalle = 360 / d\n",
    "    \n",
    "    etats = [np.floor(i/intervalle) for i in x]\n",
    "    \n",
    "    return etats\n",
    "\n",
    "discretise(X[0:2],3)"
   ]
  },
  {
   "cell_type": "markdown",
   "metadata": {},
   "source": [
    "**VALIDATION :** code du premier signal avec une discrétisation sur 3 états:\n",
    "```python\n",
    "array([ 0.,  2.,  2.,  2.,  2.,  2.,  2.,  2.,  1.,  1.,  1.,  1., 1., 1., 2., 2.,  2.,\n",
    "       2.,  0.,  0.,  0.,  0.,  0.])\n",
    "```"
   ]
  },
  {
   "cell_type": "markdown",
   "metadata": {},
   "source": [
    "### A2. Regrouper les indices des signaux par classe (pour faciliter l'apprentissage)"
   ]
  },
  {
   "cell_type": "code",
   "execution_count": 10,
   "metadata": {},
   "outputs": [
    {
     "data": {
      "text/plain": [
       "[array([ 0,  1,  2,  3,  4,  5,  6,  7,  8,  9, 10]),\n",
       " array([11, 12, 13, 14, 15, 16, 17, 18, 19, 20, 21]),\n",
       " array([22, 23, 24, 25, 26, 27, 28, 29, 30, 31, 32]),\n",
       " array([33, 34, 35, 36, 37, 38, 39, 40, 41, 42, 43]),\n",
       " array([44, 45, 46, 47, 48, 49, 50, 51, 52, 53, 54]),\n",
       " array([55, 56, 57, 58, 59, 60, 61, 62, 63, 64, 65]),\n",
       " array([66, 67, 68, 69, 70, 71, 72, 73, 74, 75, 76]),\n",
       " array([77, 78, 79, 80, 81, 82, 83, 84, 85, 86, 87]),\n",
       " array([88, 89, 90, 91, 92, 93, 94, 95, 96, 97]),\n",
       " array([ 98,  99, 100, 101, 102, 103, 104, 105, 106, 107]),\n",
       " array([108, 109, 110, 111, 112, 113, 114, 115, 116, 117]),\n",
       " array([118, 119, 120, 121, 122, 123, 124, 125, 126, 127]),\n",
       " array([128, 129, 130, 131, 132, 133, 134, 135, 136, 137]),\n",
       " array([138, 139, 140, 141, 142, 143, 144, 145, 146, 147]),\n",
       " array([148, 149, 150, 151, 152, 153, 154, 155, 156, 157]),\n",
       " array([158, 159, 160, 161, 162, 163, 164, 165, 166, 167]),\n",
       " array([168, 169, 170, 171, 172, 173, 174, 175, 176, 177]),\n",
       " array([178, 179, 180, 181, 182, 183, 184, 185, 186, 187]),\n",
       " array([188, 189, 190, 191, 192, 193, 194, 195, 196, 197]),\n",
       " array([198, 199, 200, 201, 202, 203, 204, 205, 206, 207]),\n",
       " array([208, 209, 210, 211, 212, 213, 214, 215, 216, 217]),\n",
       " array([218, 219, 220, 221, 222, 223, 224, 225, 226, 227]),\n",
       " array([228, 229, 230, 231, 232, 233, 234, 235, 236, 237]),\n",
       " array([238, 239, 240, 241, 242, 243, 244, 245, 246, 247]),\n",
       " array([248, 249, 250, 251, 252, 253, 254, 255, 256, 257]),\n",
       " array([258, 259, 260, 261, 262, 263, 264, 265, 266, 267])]"
      ]
     },
     "execution_count": 10,
     "metadata": {},
     "output_type": "execute_result"
    }
   ],
   "source": [
    "def groupByLabel(y):\n",
    "    index = []\n",
    "    for i in np.unique(y): # pour toutes les classes\n",
    "        ind, = np.where(y == i)\n",
    "        index.append(ind)\n",
    "    return index\n",
    "\n",
    "groupByLabel(Y)"
   ]
  },
  {
   "cell_type": "markdown",
   "metadata": {},
   "source": [
    "Cette méthode produit simplement une structure type:\n",
    "```python\n",
    "[array([ 0,  1,  2,  3,  4,  5,  6,  7,  8,  9, 10]),\n",
    " array([11, 12, 13, 14, 15, 16, 17, 18, 19, 20, 21]),\n",
    " array([22, 23, 24, 25, 26, 27, 28, 29, 30, 31, 32]),\n",
    " array([33, 34, 35, 36, 37, 38, 39, 40, 41, 42, 43]),\n",
    " array([44, 45, 46, 47, 48, 49, 50, 51, 52, 53, 54]),\n",
    " array([55, 56, 57, 58, 59, 60, 61, 62, 63, 64, 65]),\n",
    " ...\n",
    "```\n",
    "Chaque ligne regroupe les indices de signaux correspondant à une classe. Il y a donc 11 exemples de 'a'."
   ]
  },
  {
   "cell_type": "markdown",
   "metadata": {},
   "source": [
    "### A3. Apprendre les modèles CM\n",
    "\n",
    "Soit {$X_C$} la base de signaux discrétisés correspondant à une classe {$C$} et {$d$} le nombre d'états. Donner le code de la fonction `learnMarkovModel(Xc, d)` qui retourne un tuple contenant Pi et A.\n",
    "\n",
    "Rappel:\n",
    "- Initialisation de \n",
    "```python\n",
    " A = np.zeros((d, d))\n",
    " Pi = np.zeros(d)```\n",
    "- Parcours de tous les signaux et incréments de A et Pi\n",
    "- Normalisation (un peu réfléchie pour éviter les divisions par 0)\n",
    "```python\n",
    "A = A / np.maximum(A.sum(1).reshape(d, 1), 1) # normalisation\n",
    "Pi = Pi / Pi.sum()```\n",
    "\n",
    "**Note** : la solution proposée pour gérer le cas des lignes entièrement à 0 est naïve et n'est pas totalement satisfaisante. Comprendre pourquoi. On proposera une solution améliorée plus loin dans le TME. "
   ]
  },
  {
   "cell_type": "code",
   "execution_count": 11,
   "metadata": {},
   "outputs": [
    {
     "data": {
      "text/plain": [
       "(array([0.36363636, 0.        , 0.63636364]),\n",
       " array([[0.84444444, 0.06666667, 0.08888889],\n",
       "        [0.        , 0.83333333, 0.16666667],\n",
       "        [0.11382114, 0.06504065, 0.82113821]]))"
      ]
     },
     "execution_count": 11,
     "metadata": {},
     "output_type": "execute_result"
    }
   ],
   "source": [
    "def learnMarkovModel(Xc, d):\n",
    "    # votre code\n",
    "    # initialisation\n",
    "    A = np.zeros((d,d))\n",
    "    Pi = np.zeros(d)\n",
    "    \n",
    "    # parcours des signaux\n",
    "    for x in Xc:\n",
    "        Pi[int(x[0])] +=1            # comptage de la répartition de chaque classe pour le premier segment (indice 0)\n",
    "        \n",
    "        for i in range(len(x)-1):\n",
    "            A[int(x[i]), int(x[i+1])] +=1        # comptage de la répartition de chaque couple de classe (x_i, x_i+1)\n",
    "\n",
    "    # normalisation\n",
    "    A = A / np.maximum(A.sum(1).reshape(d, 1), 1)\n",
    "    Pi = Pi / Pi.sum()\n",
    "    \n",
    "    return Pi, A\n",
    "\n",
    "# test sur la première classe\n",
    "learnMarkovModel(discretise(X[0:11], 3),3)"
   ]
  },
  {
   "cell_type": "markdown",
   "metadata": {},
   "source": [
    "**Validation :** premier modèle avec une discrétisation sur 3 états :\n",
    "```python\n",
    "(array([ 0.36363636,  0.        ,  0.63636364]),\n",
    " array([[ 0.84444444,  0.06666667,  0.08888889],\n",
    "       [ 0.        ,  0.83333333,  0.16666667],\n",
    "       [ 0.11382114,  0.06504065,  0.82113821]]))\n",
    "```"
   ]
  },
  {
   "cell_type": "markdown",
   "metadata": {},
   "source": [
    "### A4. Stocker les modèles dans une liste\n",
    "\n",
    "Pour un usage ultérieur plus facile, on utilise le code suivant :"
   ]
  },
  {
   "cell_type": "code",
   "execution_count": 12,
   "metadata": {},
   "outputs": [
    {
     "name": "stdout",
     "output_type": "stream",
     "text": [
      "(array([0.36363636, 0.        , 0.63636364]), array([[0.84444444, 0.06666667, 0.08888889],\n",
      "       [0.        , 0.83333333, 0.16666667],\n",
      "       [0.11382114, 0.06504065, 0.82113821]]))\n"
     ]
    }
   ],
   "source": [
    "d = 3                   # paramètre de discrétisation\n",
    "Xd = discretise(X, d)    # application de la discrétisation\n",
    "index = groupByLabel(Y)  # groupement des signaux par classe\n",
    "models = []\n",
    "\n",
    "for cl in range(len(np.unique(Y))): # parcours de toutes les classes et optimisation des modèles\n",
    "    models.append(learnMarkovModel(Xd[min(index[cl]) : max(index[cl])+1], d))       # modification car Xd[index[cl]] ne foncitonne pas\n",
    "    \n",
    "print(models[0])"
   ]
  },
  {
   "cell_type": "markdown",
   "metadata": {},
   "source": [
    "### A5. Distribution stationnaire\n",
    "\n",
    "La distribution stationnaire $\\mu$, pour un système ergodique, correspond à:\n",
    "\n",
    "- la distribution des états observés dans l'ensemble des données\n",
    "- la distribution obtenu après un grand nombre de passage dans $A$ à partir de n'importe quelle distribution ou état d'origine (une matrice de transition ergodique va nous permettre de converger)\n",
    "- la solution de l'équation de stabilité: $\\mu = \\mu A$\n",
    "\n",
    "Dans le cas de la lettre 'a' et d'une discrétisation en 3 états, calculer la distribution stationnaire par les deux première méthode et vérifier que vous obtenez des résultats similaires.\n",
    "\n",
    "**Note 1:** pour la marche aléatoire, vous construirez une boucle sur 100 iérations (borne sup) et vous sortirez dès que la somme des écarts (en absolu) entre $\\mu_t$ et $\\mu_{t+1}$ est inférieure à $10^{-3}$. Vous vérifierez ensuite que le système converge quelque soit l'état de départ (3 appel àla fonction) ou avec une initialisation aléatoire.\n",
    "\n",
    "**Note 2:** les deux approches, bien que reposant sur les mêmes données, vont donner des solutions différentes. En effet, il n'y a que peu d'observations et le premier calcul repose sur les états alors que le second repose sur les transitions. \n",
    "Afin de vérifier l'exactitude de votre code, vous pourrez revenir sur cette question en fin de sujet avec le protocole suivant:\n",
    "1. utiliser la matrice de transition de 'a' pour générer une séquence de longeur 100000\n",
    "1. faire les statistiques des états (à l'aide d'un ```Counter``` par exemple)\n",
    "1. vérifier la convergence sur de longues séquences"
   ]
  },
  {
   "cell_type": "code",
   "execution_count": 28,
   "metadata": {},
   "outputs": [
    {
     "name": "stdout",
     "output_type": "stream",
     "text": [
      "[0.36363636 0.         0.63636364]\n",
      "[0.30304947 0.28282249 0.41412804]\n",
      "[0.3030092  0.28283541 0.41415539]\n",
      "[0.30304789 0.28282158 0.41413053]\n"
     ]
    }
   ],
   "source": [
    "### PAS OUF !\n",
    "def distrib_stationnaire1(X,d, cl, borneSup = 20):\n",
    "    Xd = discretise(X, d)    # application de la discrétisation\n",
    "    index = groupByLabel(Y)  # groupement des signaux par classe\n",
    "    models = []\n",
    "    res = 0\n",
    "\n",
    "    models.append(learnMarkovModel(Xd[min(index[cl]) : max(index[cl])+1], d))  # modification car Xd[index[cl]] ne foncitonne pas\n",
    "    res += models[cl][0]\n",
    "        \n",
    "    res /= res.sum()\n",
    "    return res\n",
    "\n",
    "print(distrib_stationnaire1(X, 3, 0, 100))\n",
    "###\n",
    "\n",
    "def distrib_stationnaire2(X,d,cl, base, borneSup = 20):\n",
    "    Xd = discretise(X, d)         # discrétisation en d états\n",
    "    index = groupByLabel(Y)[cl]        # récupération des index de la classe cl\n",
    "    \n",
    "    n = 0\n",
    "    Pi, A = learnMarkovModel(Xd[min(index) : max(index)+1], d)        # calcul de A et de Pi\n",
    "    \n",
    "    mu = base\n",
    "    mu_t = np.matmul(mu,A)         # calcul de la première itération mu_1 = mu_0*A\n",
    "\n",
    "    # \n",
    "    while (n<borneSup and abs(mu - mu_t).sum()>1e-5):\n",
    "        mu = mu_t\n",
    "        mu_t = np.matmul(mu,A)\n",
    "        n+=1\n",
    "\n",
    "    return mu\n",
    "\n",
    "# lettre 'a' : classe 0 et discrétisation en 3 étapes\n",
    "# on considère qu'on commence soit par un angle de la classe 0, 1 ou 2\n",
    "print(distrib_stationnaire2(X, 3, 0, [1,0,0], 100))\n",
    "print(distrib_stationnaire2(X, 3, 0, [0,1,0], 100))\n",
    "print(distrib_stationnaire2(X, 3, 0, [0,0,1], 100))"
   ]
  },
  {
   "cell_type": "markdown",
   "metadata": {},
   "source": [
    "##  B. Test (affectation dans les classes sur critère MV)\n",
    "### B1. (log)Probabilité d'une séquence dans un modèle\n",
    "\n",
    "Donner le code de la méthode `probaSequence(s,Pi,A)` qui retourne la log-probabilité d'une séquence `s` dans le modèle {$\\lambda=\\{Pi,A\\}$} "
   ]
  },
  {
   "cell_type": "code",
   "execution_count": 10,
   "metadata": {},
   "outputs": [],
   "source": [
    "def probaSequence(s, Pi, A):\n",
    "    # Votre code\n",
    "    # probabilité au point de départ; selon l'état discret du premier angle, on considère la valeur de Pi appropriée\n",
    "    log_p = np.log(Pi[ int(s[0]) ])\n",
    "    \n",
    "    # selon l'angle suivant, on ajoute la probabilité du couple discret (car on est en log)\n",
    "    for i in range(len(s)-1):\n",
    "        log_p += np.log(A[int(s[i]), int(s[i+1])])\n",
    "    \n",
    "    return log_p\n"
   ]
  },
  {
   "cell_type": "markdown",
   "metadata": {},
   "source": [
    "**VALIDATION :** probabilité du premier signal dans les 26 modèles avec une discrétisation sur 3 états :\n",
    "```python\n",
    "array([-13.491086  ,         -inf,         -inf,         -inf,\n",
    "               -inf,         -inf,         -inf,         -inf,\n",
    "               -inf,         -inf,         -inf,         -inf,\n",
    "               -inf,         -inf,         -inf,         -inf,\n",
    "               -inf,         -inf,         -inf,         -inf,\n",
    "               -inf,         -inf,         -inf,         -inf,\n",
    "               -inf, -12.48285678])\n",
    "```\n",
    "\n",
    "- Ce signal est-il bien classé ?\n",
    "- D'où viennent tous les `-inf` ? "
   ]
  },
  {
   "cell_type": "markdown",
   "metadata": {},
   "source": [
    "### B2. Application de la méthode précédente pour tous les signaux et tous les modèles de lettres\n",
    "\n",
    "L'application se fait en une ligne de code si vous avez respecté les spécifications précédentes : "
   ]
  },
  {
   "cell_type": "code",
   "execution_count": 11,
   "metadata": {},
   "outputs": [
    {
     "name": "stdout",
     "output_type": "stream",
     "text": [
      "[-13.491086           -inf         -inf         -inf         -inf\n",
      "         -inf         -inf         -inf         -inf         -inf\n",
      "         -inf         -inf         -inf         -inf         -inf\n",
      "         -inf         -inf         -inf         -inf         -inf\n",
      "         -inf         -inf         -inf         -inf         -inf\n",
      " -12.48285678]\n"
     ]
    },
    {
     "name": "stderr",
     "output_type": "stream",
     "text": [
      "/tmp/ipykernel_9279/723505908.py:4: RuntimeWarning: divide by zero encountered in log\n",
      "  log_p = np.log(Pi[ int(s[0]) ])\n",
      "/tmp/ipykernel_9279/723505908.py:8: RuntimeWarning: divide by zero encountered in log\n",
      "  log_p += np.log(A[int(s[i]), int(s[i+1])])\n"
     ]
    }
   ],
   "source": [
    "# On recalcule pour le test qu'on veut\n",
    "d = 3                   # paramètre de discrétisation\n",
    "Xd = discretise(X, d)    # application de la discrétisation\n",
    "index = groupByLabel(Y)  # groupement des signaux par classe\n",
    "models = []\n",
    "\n",
    "for cl in range(len(np.unique(Y))): # parcours de toutes les classes et optimisation des modèles\n",
    "    models.append(learnMarkovModel(Xd[min(index[cl]) : max(index[cl])+1], d))       # modification car Xd[index[cl]] ne foncitonne pas\n",
    "\n",
    "# une ligne pour une classe, une colonne pour chaque série d'angles\n",
    "proba = np.array([[probaSequence(Xd[i], models[cl][0], models[cl][1]) for i in range(len(Xd))]\n",
    "                  for cl in range(len(np.unique(Y)))])\n",
    "\n",
    "print(proba[:,0])        # on veut regarder le premier signal pour la première classe"
   ]
  },
  {
   "cell_type": "markdown",
   "metadata": {},
   "source": [
    "### B3. Evaluation des performances\n",
    "\n",
    "Pour l'évaluation, nous proposons l'approche suivante: "
   ]
  },
  {
   "cell_type": "code",
   "execution_count": 12,
   "metadata": {},
   "outputs": [
    {
     "data": {
      "text/plain": [
       "0.6902985074626866"
      ]
     },
     "execution_count": 12,
     "metadata": {},
     "output_type": "execute_result"
    }
   ],
   "source": [
    "# calcul d'une version numérique des Y :\n",
    "Ynum = np.zeros(Y.shape)\n",
    "for num, char in enumerate(np.unique(Y)):\n",
    "    Ynum[Y == char] = num\n",
    "    \n",
    "# Calcul de la classe la plus probable :\n",
    "pred = proba.argmax(0) # max colonne par colonne\n",
    "\n",
    "# Calcul d'un pourcentage de bonne classification :\n",
    "np.where(pred != Ynum, 0.,1.).mean()"
   ]
  },
  {
   "cell_type": "markdown",
   "metadata": {},
   "source": [
    "**INDICE DE PERFORMANCE :** 91% de bonne classification avec 20 états, 69% avec 3 états"
   ]
  },
  {
   "cell_type": "markdown",
   "metadata": {},
   "source": [
    "## C. Biais d'évaluation, notion de sur-apprentissage\n",
    "\n",
    "Dans le protocole précédent, nous avons triché:\n",
    "- les données servent d'abord à apprendre les modèles...\n",
    "- puis nous nous servons des mêmes données pour tester les modèles ! Les performances sont forcément bonnes ! \n",
    "\n",
    "Afin de palier le problème, nous allons diviser en deux la base de données: une partie servira à l'apprentissage des modèles, l'autre à leur évaluation. Pour effectuer la division, nous fournissons le code suivant: "
   ]
  },
  {
   "cell_type": "code",
   "execution_count": 13,
   "metadata": {},
   "outputs": [],
   "source": [
    "# separation app/test, pc=ratio de points en apprentissage\n",
    "def separeTrainTest(y, pc):\n",
    "    indTrain = []\n",
    "    indTest = []\n",
    "    for i in np.unique(y): # pour toutes les classes\n",
    "        ind, = np.where(y == i)\n",
    "        n = len(ind)\n",
    "        indTrain.append(ind[np.random.permutation(n)][:int(np.floor(pc * n))])\n",
    "        indTest.append(np.setdiff1d(ind, indTrain[-1]))\n",
    "    return indTrain, indTest\n",
    "\n",
    "# exemple d'utilisation\n",
    "itrain, itest = separeTrainTest(Y, 0.8)"
   ]
  },
  {
   "cell_type": "markdown",
   "metadata": {},
   "source": [
    "dans `itrain`, nous obtenons les indices des signaux qui doivent servir en apprentissage pour chaque classe :"
   ]
  },
  {
   "cell_type": "code",
   "execution_count": 14,
   "metadata": {},
   "outputs": [
    {
     "data": {
      "text/plain": [
       "[array([ 1, 10,  6,  8,  0,  9,  4,  7]),\n",
       " array([15, 19, 17, 16, 20, 11, 14, 12]),\n",
       " array([30, 24, 27, 26, 29, 31, 23, 32]),\n",
       " array([40, 41, 34, 35, 38, 37, 43, 42]),\n",
       " array([53, 46, 44, 45, 54, 50, 48, 49]),\n",
       " array([57, 61, 65, 60, 56, 58, 59, 55]),\n",
       " array([70, 74, 71, 76, 75, 68, 67, 73]),\n",
       " array([78, 86, 79, 84, 80, 81, 77, 82]),\n",
       " array([97, 95, 93, 94, 88, 96, 89, 90]),\n",
       " array([104, 101, 105, 102, 107,  99, 100, 106]),\n",
       " array([111, 115, 113, 108, 116, 109, 114, 112]),\n",
       " array([121, 118, 124, 125, 120, 122, 126, 123]),\n",
       " array([133, 129, 131, 136, 134, 132, 135, 137]),\n",
       " array([143, 141, 140, 144, 145, 138, 139, 146]),\n",
       " array([148, 151, 156, 153, 150, 155, 154, 152]),\n",
       " array([158, 165, 167, 160, 163, 166, 162, 164]),\n",
       " array([176, 175, 170, 169, 174, 171, 173, 172]),\n",
       " array([186, 187, 182, 178, 181, 185, 180, 184]),\n",
       " array([189, 194, 190, 193, 192, 196, 197, 188]),\n",
       " array([205, 200, 202, 204, 206, 201, 199, 207]),\n",
       " array([216, 212, 210, 209, 211, 215, 208, 213]),\n",
       " array([227, 219, 225, 218, 223, 226, 220, 221]),\n",
       " array([232, 236, 230, 229, 234, 231, 235, 237]),\n",
       " array([245, 244, 240, 247, 241, 239, 246, 238]),\n",
       " array([250, 257, 253, 254, 251, 252, 255, 256]),\n",
       " array([265, 261, 264, 263, 259, 262, 258, 266])]"
      ]
     },
     "execution_count": 14,
     "metadata": {},
     "output_type": "execute_result"
    }
   ],
   "source": [
    "itrain"
   ]
  },
  {
   "cell_type": "markdown",
   "metadata": {},
   "source": [
    "**Note :** pour faciliter l'évaluation des modèles, vous aurez besoin de re-fusionner tous les indices d'apprentissage et de test. Cela se fait avec les lignes de code suivantes : "
   ]
  },
  {
   "cell_type": "code",
   "execution_count": 15,
   "metadata": {},
   "outputs": [
    {
     "name": "stdout",
     "output_type": "stream",
     "text": [
      "[1, 10, 6, 8, 0, 9, 4, 7, 15, 19, 17, 16, 20, 11, 14, 12, 30, 24, 27, 26, 29, 31, 23, 32, 40, 41, 34, 35, 38, 37, 43, 42, 53, 46, 44, 45, 54, 50, 48, 49, 57, 61, 65, 60, 56, 58, 59, 55, 70, 74, 71, 76, 75, 68, 67, 73, 78, 86, 79, 84, 80, 81, 77, 82, 97, 95, 93, 94, 88, 96, 89, 90, 104, 101, 105, 102, 107, 99, 100, 106, 111, 115, 113, 108, 116, 109, 114, 112, 121, 118, 124, 125, 120, 122, 126, 123, 133, 129, 131, 136, 134, 132, 135, 137, 143, 141, 140, 144, 145, 138, 139, 146, 148, 151, 156, 153, 150, 155, 154, 152, 158, 165, 167, 160, 163, 166, 162, 164, 176, 175, 170, 169, 174, 171, 173, 172, 186, 187, 182, 178, 181, 185, 180, 184, 189, 194, 190, 193, 192, 196, 197, 188, 205, 200, 202, 204, 206, 201, 199, 207, 216, 212, 210, 209, 211, 215, 208, 213, 227, 219, 225, 218, 223, 226, 220, 221, 232, 236, 230, 229, 234, 231, 235, 237, 245, 244, 240, 247, 241, 239, 246, 238, 250, 257, 253, 254, 251, 252, 255, 256, 265, 261, 264, 263, 259, 262, 258, 266] \n",
      " [2, 3, 5, 13, 18, 21, 22, 25, 28, 33, 36, 39, 47, 51, 52, 62, 63, 64, 66, 69, 72, 83, 85, 87, 91, 92, 98, 103, 110, 117, 119, 127, 128, 130, 142, 147, 149, 157, 159, 161, 168, 177, 179, 183, 191, 195, 198, 203, 214, 217, 222, 224, 228, 233, 242, 243, 248, 249, 260, 267]\n"
     ]
    }
   ],
   "source": [
    "ia = []\n",
    "for i in itrain:\n",
    "    ia += i.tolist()    \n",
    "it = []\n",
    "for i in itest:\n",
    "    it += i.tolist()\n",
    "    \n",
    "print(ia, '\\n', it)"
   ]
  },
  {
   "cell_type": "markdown",
   "metadata": {},
   "source": [
    "**Note 2 :** Du fait de la permutation aléatoire, les résultats vont bouger (un peu) à chaque execution du programme. "
   ]
  },
  {
   "cell_type": "markdown",
   "metadata": {},
   "source": [
    "### C1. Questions importantes\n",
    "- Ré-utiliser les fonctions précédemment définies pour apprendre des modèles et les évaluer sans biais.\n",
    "- Calculer et analyser les résultats obtenus en apprentissage et en test\n",
    "- Etudier l'évolution des performances en fonction de la discrétisation"
   ]
  },
  {
   "cell_type": "code",
   "execution_count": 27,
   "metadata": {},
   "outputs": [
    {
     "name": "stderr",
     "output_type": "stream",
     "text": [
      "/tmp/ipykernel_9279/723505908.py:8: RuntimeWarning: divide by zero encountered in log\n",
      "  log_p += np.log(A[int(s[i]), int(s[i+1])])\n",
      "/tmp/ipykernel_9279/723505908.py:4: RuntimeWarning: divide by zero encountered in log\n",
      "  log_p = np.log(Pi[ int(s[0]) ])\n"
     ]
    },
    {
     "data": {
      "text/plain": [
       "0.6666666666666666"
      ]
     },
     "execution_count": 27,
     "metadata": {},
     "output_type": "execute_result"
    }
   ],
   "source": [
    "# Votre code\n",
    "# EVALUATION\n",
    "d = 5                   # paramètre de discrétisation\n",
    "Xd = discretise(X, d)    # application de la discrétisation\n",
    "models = []\n",
    "\n",
    "for cl in range(len(itrain)): # parcours de toutes les classes et optimisation des modèles\n",
    "    Xc = []\n",
    "    for i in itrain[cl]:\n",
    "        Xc.append(Xd[i])      # on sépare dans Xc les X discret de classe cl\n",
    "        \n",
    "    #on trouve pour chaque classe son couple (Pi(probabilité de départ) , A(matrice de transition))\n",
    "    models.append(learnMarkovModel(Xc, d))       # on forme le modèle pour Xc\n",
    "\n",
    "\n",
    "# ANALYSE\n",
    "Xt = []\n",
    "for i in it:\n",
    "    Xt.append(Xd[i])     # on sépare dans Xt les X discret à analyser\n",
    "    \n",
    "# on calcul d'après notre modèle les probas de chaque séquence pour chaque classe\n",
    "# (une ligne pour une classe, une colonne pour chaque série d'angles)\n",
    "proba = np.array([[probaSequence(Xt[i], models[cl][0], models[cl][1]) for i in range(len(Xt))]\n",
    "                  for cl in range(len(itrain))])\n",
    "\n",
    "\n",
    "# ETUDE\n",
    "# calcul d'une version numérique des Y :\n",
    "Ynum = np.zeros(Y[it].shape)\n",
    "for num, char in enumerate(np.unique(Y[it])):\n",
    "    Ynum[Y[it] == char] = num\n",
    "    \n",
    "# Calcul de la classe la plus probable :\n",
    "pred = proba.argmax(0) # max colonne par colonne\n",
    "\n",
    "# Calcul d'un pourcentage de bonne classification :\n",
    "np.where(pred != Ynum, 0.,1.).mean()\n",
    "\n",
    "# on trouve la meilleure classification pour une discrétisation entre 3 et 5 états"
   ]
  },
  {
   "cell_type": "markdown",
   "metadata": {},
   "source": [
    "### C2. Lutter contre le sur-apprentissage\n",
    "Cette base de données met en lumière le phénomène de sur-apprentissage : il y a peu de données et dès que le nombre d'états augmente, il y a trop peu d'exemple pour estimer correctement les matrices {$A, \\pi$}. De nombreuses cases sont donc à 0, voire des lignes entières (d'où la sécurisation du code pour la normalisation des matrices stochastiques).\n",
    "\n",
    "Ces 0 sont particulièrement discriminants: considérant la classe {$c$}, ils permettent d'éliminer de cette classe tout signal présentant cette caractéristique. Cette règle est trop forte compte tenu de la taille de la base d'apprentissage. Nous proposons une astuce pour palier cette faiblesse : lors du comptage, initialiser les matrices {$A, \\pi$} avec ones au lieu de zeros . On fait semblant d'avoir observer une transition de chaque type avant même le début du comptage.\n",
    "\n",
    "Comparer les performances en test."
   ]
  },
  {
   "cell_type": "code",
   "execution_count": 17,
   "metadata": {},
   "outputs": [],
   "source": [
    "# Votre code"
   ]
  },
  {
   "cell_type": "markdown",
   "metadata": {},
   "source": [
    "## D. Evaluation qualitative\n",
    "\n",
    "Nous nous demandons maintenant où se trouvent les erreurs que nous avons commises...\n",
    "\n",
    "Calcul de la matrice de confusion: pour chaque échantillon de test, nous avons une prédiction (issue du modèle) et une vérité terrain (la vraie étiquette). En posant Nc le nombre de classes, la matrice de confusion est une matrice (Nc x Nc) où nous comptons le nombre d'échantillon de test dans chaque catégorie :\n",
    "\n",
    "- Initialisation à 0 : "
   ]
  },
  {
   "cell_type": "code",
   "execution_count": 18,
   "metadata": {},
   "outputs": [],
   "source": [
    "conf = np.zeros((26,26))"
   ]
  },
  {
   "cell_type": "markdown",
   "metadata": {},
   "source": [
    "- Pour chaque échantillon, incrément de la case (prediction, vérité)"
   ]
  },
  {
   "cell_type": "code",
   "execution_count": 19,
   "metadata": {},
   "outputs": [],
   "source": [
    "# Votre code"
   ]
  },
  {
   "cell_type": "markdown",
   "metadata": {},
   "source": [
    "- Tracé de la matrice : "
   ]
  },
  {
   "cell_type": "code",
   "execution_count": 20,
   "metadata": {},
   "outputs": [
    {
     "data": {
      "text/plain": [
       "Text(0, 0.5, 'Prédiction')"
      ]
     },
     "execution_count": 20,
     "metadata": {},
     "output_type": "execute_result"
    },
    {
     "data": {
      "image/png": "[encoded data removed]",
      "text/plain": [
       "<Figure size 432x288 with 2 Axes>"
      ]
     },
     "metadata": {
      "needs_background": "light"
     },
     "output_type": "display_data"
    }
   ],
   "source": [
    "plt.figure()\n",
    "plt.imshow(conf, interpolation = 'nearest')\n",
    "plt.colorbar()\n",
    "plt.xticks(np.arange(26), np.unique(Y))\n",
    "plt.yticks(np.arange(26), np.unique(Y))\n",
    "plt.xlabel(u'Vérité terrain')\n",
    "plt.ylabel(u'Prédiction')\n",
    "#plt.savefig(\"mat_conf_lettres.png\")"
   ]
  },
  {
   "cell_type": "markdown",
   "metadata": {},
   "source": [
    "## E. Modèle génératif\n",
    "\n",
    "Utiliser les modèles appris pour générer de nouvelles lettres manuscrites.\n",
    "\n",
    "### E1. Tirage selon une loi de probabilité discrète\n",
    "\n",
    "- faire la somme cumulée de la loi {$sc$}\n",
    "- tirer un nombre aléatoire {$t$} entre 0 et 1\n",
    "- trouver la première valeur de {$sc$} qui est supérieure à {$t$}\n",
    "- retourner cet état \n",
    "\n",
    "**Note :** comme vu en cours, tout repose sur la somme cumulée (notée ici `sc$`, calculable en appelant `np.cumsum`. Sur un exemple: la loi `V = [0.2, 0.4, 0.3, 0.1]` a pour somme cumulée `V.cumsum() == [0.2,  0.6,  0.9,  1.0]`\n",
    "\n",
    "### E2. Génération d'une séquence de longueur N\n",
    "\n",
    "- tirer un état {$s_0$} selon Pi\n",
    "- tant que la longueur n'est pas atteinte :\n",
    "  - tirer un état {$s_{t+1}$} selon {$A[s_{t}]$} "
   ]
  },
  {
   "cell_type": "code",
   "execution_count": 21,
   "metadata": {},
   "outputs": [],
   "source": [
    "# Votre code"
   ]
  },
  {
   "cell_type": "markdown",
   "metadata": {},
   "source": [
    "### E3. Affichage du résultat"
   ]
  },
  {
   "cell_type": "code",
   "execution_count": 22,
   "metadata": {},
   "outputs": [
    {
     "ename": "NameError",
     "evalue": "name 'generate' is not defined",
     "output_type": "error",
     "traceback": [
      "\u001b[0;31m---------------------------------------------------------------------------\u001b[0m",
      "\u001b[0;31mNameError\u001b[0m                                 Traceback (most recent call last)",
      "Input \u001b[0;32mIn [22]\u001b[0m, in \u001b[0;36m<cell line: 1>\u001b[0;34m()\u001b[0m\n\u001b[0;32m----> 1\u001b[0m newa \u001b[38;5;241m=\u001b[39m \u001b[43mgenerate\u001b[49m(models[\u001b[38;5;241m0\u001b[39m][\u001b[38;5;241m0\u001b[39m], models[\u001b[38;5;241m0\u001b[39m][\u001b[38;5;241m1\u001b[39m], \u001b[38;5;241m20\u001b[39m)       \u001b[38;5;66;03m# generation d'une séquence d'états\u001b[39;00m\n\u001b[1;32m      2\u001b[0m intervalle \u001b[38;5;241m=\u001b[39m \u001b[38;5;241m360.\u001b[39m \u001b[38;5;241m/\u001b[39m d                                 \u001b[38;5;66;03m# pour passer des états => valeur d'angles\u001b[39;00m\n\u001b[1;32m      3\u001b[0m newa_continu \u001b[38;5;241m=\u001b[39m np\u001b[38;5;241m.\u001b[39marray([i \u001b[38;5;241m*\u001b[39m intervalle \u001b[38;5;28;01mfor\u001b[39;00m i \u001b[38;5;129;01min\u001b[39;00m newa]) \u001b[38;5;66;03m# conv int => double\u001b[39;00m\n",
      "\u001b[0;31mNameError\u001b[0m: name 'generate' is not defined"
     ]
    }
   ],
   "source": [
    "newa = generate(models[0][0], models[0][1], 20)       # generation d'une séquence d'états\n",
    "intervalle = 360. / d                                 # pour passer des états => valeur d'angles\n",
    "newa_continu = np.array([i * intervalle for i in newa]) # conv int => double\n",
    "tracerLettre(newa_continu)"
   ]
  }
 ],
 "metadata": {
  "kernelspec": {
   "display_name": "Python 3 (ipykernel)",
   "language": "python",
   "name": "python3"
  },
  "language_info": {
   "codemirror_mode": {
    "name": "ipython",
    "version": 3
   },
   "file_extension": ".py",
   "mimetype": "text/x-python",
   "name": "python",
   "nbconvert_exporter": "python",
   "pygments_lexer": "ipython3",
   "version": "3.9.2"
  }
 },
 "nbformat": 4,
 "nbformat_minor": 4
}
